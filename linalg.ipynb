{
 "cells": [
  {
   "cell_type": "code",
   "execution_count": 3,
   "metadata": {},
   "outputs": [],
   "source": [
    "import sympy\n",
    "import numpy as np\n",
    "import scipy.linalg"
   ]
  },
  {
   "cell_type": "code",
   "execution_count": 4,
   "metadata": {},
   "outputs": [],
   "source": [
    "M = sympy.Matrix([[ 1, -2, 3, 5, 14],\n",
    "[-2, 4, -5, -10, -26],\n",
    "[ 2, -4, 6, 11, 29],\n",
    "[-1, 2, -2, -5, -12]])"
   ]
  },
  {
   "cell_type": "code",
   "execution_count": 5,
   "metadata": {},
   "outputs": [
    {
     "name": "stdout",
     "output_type": "stream",
     "text": [
      "(Matrix([\n",
      "[1, -2, 0, 0, 3],\n",
      "[0,  0, 1, 0, 2],\n",
      "[0,  0, 0, 1, 1],\n",
      "[0,  0, 0, 0, 0]]), (0, 2, 3))\n"
     ]
    }
   ],
   "source": [
    "print(M.rref())"
   ]
  },
  {
   "cell_type": "code",
   "execution_count": 6,
   "metadata": {},
   "outputs": [
    {
     "name": "stdout",
     "output_type": "stream",
     "text": [
      "[4. 3. 1.]\n"
     ]
    }
   ],
   "source": [
    "A = np.array([[ 1, -2, 3],\n",
    "[ 2, -4, 7],\n",
    "[-3, 5, -1]])\n",
    "\n",
    "b = np.array([1, 3, 2])\n",
    "\n",
    "x = scipy.linalg.solve(A, b)\n",
    "\n",
    "print(x)"
   ]
  },
  {
   "cell_type": "markdown",
   "metadata": {},
   "source": [
    "# Tentauppgift 5\n",
    "!['Tentauppgift'](\\\\assets\\\\Tenta_uppg_5.png)<br>\n",
    "Syftet är att bestämma minsta kvadratlösningen med Python på olika sätt:\n",
    "Bakgrund: I uppgiften har vi ett överbestämt system, eftersom det är tre ekvationer men bara två okända. Sådana ekvationer går sällan att lösa, förutom om alla punkterna ligger på en rad som kan skäras av en och samma linje. Man kan lösa dessa genom att använda \"minsta kvadrat metoden\". Då multiplicerar man båda sidorna med A-transponat och löser det efterföljande ekvationssystemet.<br>\n",
    "När man använder inbyggda funktioner för att lösa ekvations system, som np.linalg.solve eller sympy.solve eller scipy.linalg.solve, så måste det vara square matrices, dvs lika många ekvationer som okända.<br>\n",
    "Överbestämda system kan direkt lösas med tex Scipy.linalg.lstsq funktionen, alternativt direkt med normalekvationen.\n"
   ]
  },
  {
   "cell_type": "markdown",
   "metadata": {},
   "source": [
    "Ett linjärt ekvationssystem, där\n",
    "- A = koefficient matrisen som innehåller alla koefficienter till de okända x'en\n",
    "- x = kolonnvektor med alla okända x\n",
    "- y = kolonnvektor med alla konstanter\n",
    "- Beräkningarna fungerar nedan, men jag har nog benämnt de olika matriserna med lite fel namn osv. Kan göra om när jag har tid.\n",
    "<h3>\n",
    "\n",
    "$Ax = y$\n",
    "</h3><br>\n",
    "\n",
    "<h3>\n",
    "\n",
    "$A=\\begin{bmatrix}\n",
    "1 & 1\\\\\n",
    "-1 & 2\\\\\n",
    "1 & -1\n",
    "\\end{bmatrix}$\n",
    "</h3>\n",
    "\n",
    "<h3>\n",
    "\n",
    "$y = \\begin{bmatrix}\n",
    "1\\\\\n",
    "4\\\\\n",
    "0\n",
    "\\end{bmatrix}$\n",
    "</h3>\n",
    "\n",
    "<h3>\n",
    "\n",
    "$x=\\begin{bmatrix}\n",
    "x_1\\\\\n",
    "x_2\n",
    "\\end{bmatrix}$<br>\n",
    "\n",
    "Multiplicera båda leden med A-transponat:\n",
    "<h3>\n",
    "\n",
    "$A^TAx = A^Ty$\n",
    "</h3>\n",
    "Matrismultiplikation A-transponat gånger A, ger oss:<br>\n",
    "<h3>\n",
    "\n",
    "$A^TA = \\begin{bmatrix}\n",
    "3 & -2\\\\\n",
    "-2 & 6\n",
    "\\end{bmatrix}$\n",
    "</h3><br>\n"
   ]
  },
  {
   "cell_type": "code",
   "execution_count": 7,
   "metadata": {},
   "outputs": [
    {
     "data": {
      "text/plain": [
       "array([[ 3, -2],\n",
       "       [-2,  6]])"
      ]
     },
     "execution_count": 7,
     "metadata": {},
     "output_type": "execute_result"
    }
   ],
   "source": [
    "A = np.array([[1, 1],[-1, 2],[1, -1]])\n",
    "y = np.array([[1],[4],[0]])\n",
    "AT_ggr_A = A.T @ A\n",
    "AT_ggr_A"
   ]
  },
  {
   "cell_type": "markdown",
   "metadata": {},
   "source": [
    "Matrismultiplikation A-transponat gånger y, ger oss:<br>\n",
    "<h3>\n",
    "\n",
    "$A^Ty = \\begin{bmatrix}\n",
    "1 & -1 & 1\\\\\n",
    "1 & 2 & -1\n",
    "\\end{bmatrix}\n",
    "\\begin{bmatrix}\n",
    "1\\\\\n",
    "4\\\\\n",
    "0\n",
    "\\end{bmatrix} = \n",
    "\\begin{bmatrix}\n",
    "-3\\\\\n",
    "9\n",
    "\\end{bmatrix}$\n",
    "</h3>\n"
   ]
  },
  {
   "cell_type": "code",
   "execution_count": 8,
   "metadata": {},
   "outputs": [
    {
     "data": {
      "text/plain": [
       "array([[-3],\n",
       "       [ 9]])"
      ]
     },
     "execution_count": 8,
     "metadata": {},
     "output_type": "execute_result"
    }
   ],
   "source": [
    "AT_ggr_y = A.T @ y\n",
    "AT_ggr_y"
   ]
  },
  {
   "cell_type": "markdown",
   "metadata": {},
   "source": [
    "<h3>\n",
    "\n",
    "$Ax = y$\n",
    "</h3><br>\n",
    "dvs:\n",
    "<h3>\n",
    "\n",
    "$\\begin{bmatrix}\n",
    "3 & -2\\\\\n",
    "-2 & 6\n",
    "\\end{bmatrix}\n",
    "\\begin{bmatrix}\n",
    "x_1\\\\\n",
    "x_2\n",
    "\\end{bmatrix} =\n",
    "\\begin{bmatrix}\n",
    "-3\\\\\n",
    "9\n",
    "\\end{bmatrix}$\n",
    "</h3><br>\n",
    "som man löser som ett vanligt ekvationsssystem, med gauselimination om man gör det för hand:\n",
    "<h3>\n",
    "\n",
    "$\\begin{bmatrix}\n",
    "3 & -2 & -3\\\\\n",
    "-2 & 6 & 9\n",
    "\\end{bmatrix}$<br>\n",
    "</h3>"
   ]
  },
  {
   "cell_type": "markdown",
   "metadata": {},
   "source": [
    "#### Lösning 1, Sympy:\n",
    "- Sympy är ett bibliotek för symbolisk matematik."
   ]
  },
  {
   "cell_type": "code",
   "execution_count": 9,
   "metadata": {},
   "outputs": [
    {
     "name": "stdout",
     "output_type": "stream",
     "text": [
      "{x1: 0, x2: 3/2}\n"
     ]
    }
   ],
   "source": [
    "x1, x2 = sympy.symbols('x1 x2')\n",
    "\n",
    "eq1 = sympy.Eq(3 * x1 -2 * x2, -3)\n",
    "eq2 = sympy.Eq(-2 * x1 + 6 * x2, 9)\n",
    "\n",
    "solution = sympy.solve((eq1, eq2), (x1, x2))\n",
    "\n",
    "print(solution)"
   ]
  },
  {
   "cell_type": "markdown",
   "metadata": {},
   "source": [
    "#### Lösning 2, numpy.linalg.solve\n",
    "Funktionen ska ha två inputs: <br>\n",
    "- Koefficientmatrisen A, som innehåller koefficienterna till variablerna i ekvationerna.\n",
    "- Konstantvektorn y, innehåller alla konstanterna (responsvariablerna) som en kolonnvektor, till höger i ekvationssystemet.\n",
    "- (AT_ggr_A motsvarar 'A' och AT_ggr_y motsvarar 'y')"
   ]
  },
  {
   "cell_type": "code",
   "execution_count": 10,
   "metadata": {},
   "outputs": [
    {
     "name": "stdout",
     "output_type": "stream",
     "text": [
      "[[0. ]\n",
      " [1.5]]\n"
     ]
    }
   ],
   "source": [
    "solution_np = np.linalg.solve(AT_ggr_A, AT_ggr_y)\n",
    "print(solution_np)"
   ]
  },
  {
   "cell_type": "markdown",
   "metadata": {},
   "source": [
    "#### Lösning 3, scipy.linalg.solve\n",
    "- liknande sätt som man gör i numpy"
   ]
  },
  {
   "cell_type": "code",
   "execution_count": 11,
   "metadata": {},
   "outputs": [
    {
     "name": "stdout",
     "output_type": "stream",
     "text": [
      "[[0. ]\n",
      " [1.5]]\n"
     ]
    }
   ],
   "source": [
    "solution_scipy = scipy.linalg.solve(AT_ggr_A, AT_ggr_y)\n",
    "print(solution_scipy)"
   ]
  },
  {
   "cell_type": "markdown",
   "metadata": {},
   "source": [
    "Lösning:<br>\n",
    "![Lösning](\\\\assets\\\\Tenta_uppg_5_lösning.png)"
   ]
  },
  {
   "cell_type": "markdown",
   "metadata": {},
   "source": [
    "#### Lösning 4: från ML kursen exercise 1:\n",
    "- Hur man löser ett linjärt ekvationssystem genom att utföra matrismultiplikationen direkt, dvs utan att multiplicera båda leden med A-transponat:"
   ]
  },
  {
   "cell_type": "markdown",
   "metadata": {},
   "source": [
    "- Denna kod definierar en lambda-funktion med namnet regression_fit, som tar två parametrar: X och y. Lambda-funktionen utför en linjär regression och returnerar de beräknade koefficienterna för regressionsmodellen.<br>\n",
    "Här är en detaljerad förklaring:<br>\n",
    "- X representerar matrisen av oberoende variabler (features) i linjär regression. Varje rad i X motsvarar en observation, och varje kolumn representerar en oberoende variabel.\n",
    "- y representerar vektor av beroende variabler (target values).\n",
    "- X.T är transpose-matrisen av X, vilket byter plats på rader och kolumner.\n",
    "- X.T @ X är en matrixmultiplikation mellan X.T och X, vilket resulterar i en ny matris.\n",
    "- np.linalg.pinv(X.T @ X) beräknar den pseudo-inversa (penrose-moore inversa) av .@X.T@X. Pseudo-inversen används eftersom .X.T@X kanske inte är inverterbar i alla situationer, men pseudo-inversen ger en generaliserad lösning.\n",
    "- @ X.T multiplicerar pseudo-inversen med X.T.\n",
    "- @ y multiplicerar resultatet med y.\n",
    "- Så, sammanfattningsvis utför denna lambda-funktion en linjär regression genom att beräkna pseudo-inversen av @X.T@X och sedan multiplicera den med X.T och y. De beräknade koefficienterna som minimerar kvadratiska förlustfunktionen för regressionen returneras som resultat."
   ]
  },
  {
   "cell_type": "code",
   "execution_count": 12,
   "metadata": {},
   "outputs": [
    {
     "name": "stdout",
     "output_type": "stream",
     "text": [
      "[[-4.4408921e-16]\n",
      " [ 1.5000000e+00]]\n"
     ]
    }
   ],
   "source": [
    "A = np.array([[1, 1],[-1, 2],[1, -1]])\n",
    "y = np.array([[1],[4],[0]])\n",
    "\n",
    "regression_fit = lambda A, y: np.linalg.pinv(A.T @ A) @ A.T @ y\n",
    "beta_hat = regression_fit(A, y)\n",
    "print(beta_hat)"
   ]
  },
  {
   "cell_type": "markdown",
   "metadata": {},
   "source": [
    "Lösning 5, Scipy's funktion för att lösa minsta kvadratmetoden direkt, dvs utan att manuellt beräkna A-transponat gånger A osv.\n",
    "- Compute least-squares solution to equation Ax = b.\n",
    "- Verkar som att b också kan vara en array, dvs multipelt antal beroende variabler.\n",
    "- [SciPy Least Squares documentation](https://docs.scipy.org/doc/scipy/reference/generated/scipy.linalg.lstsq.html)<br>\n",
    "- funktionen returnerar minsta kvadrat lösningen som en array (x), residualen (residues) ?"
   ]
  },
  {
   "cell_type": "code",
   "execution_count": 13,
   "metadata": {},
   "outputs": [
    {
     "name": "stdout",
     "output_type": "stream",
     "text": [
      "Solution: [[-7.19506754e-16]\n",
      " [ 1.50000000e+00]]\n",
      "Residuals: [3.5]\n",
      "Rank 2\n",
      "s [2.64575131 1.41421356]\n"
     ]
    }
   ],
   "source": [
    "# Solve for x using scipy.linalg.lstsq\n",
    "A = np.array([[1, 1],[-1, 2],[1, -1]])\n",
    "y = np.array([[1],[4],[0]])\n",
    "\n",
    "x, residuals, rank, s = scipy.linalg.lstsq(A, y)\n",
    "\n",
    "print(\"Solution:\", x)\n",
    "print(\"Residuals:\", residuals)\n",
    "print(\"Rank\", rank)\n",
    "print(\"s\", s)"
   ]
  },
  {
   "cell_type": "markdown",
   "metadata": {},
   "source": [
    "#### Gör en egen beräkning av en enkel linjär regression, en minsta kvadrat anpassning till mätvärden x och y:\n",
    "- x = [0, 2, 2, -1, 5]\n",
    "- y = [3, 4, 5, 0, 6]<br>\n",
    "- beta är här en vektor med beta_0 och beta_1, dvs [beta_0, beta_1]\n",
    "- Här har vi fallet där man måste addera en \"etta\" i matrisen för att det ska fungera. I ML brukar det kallas att includera 'bias', när man tar med denna ettan.<br>\n",
    "![bild](assets/least_squares_1.png)\n"
   ]
  },
  {
   "cell_type": "code",
   "execution_count": 17,
   "metadata": {},
   "outputs": [
    {
     "name": "stdout",
     "output_type": "stream",
     "text": [
      "[[2.1509434 ]\n",
      " [0.90566038]]\n"
     ]
    }
   ],
   "source": [
    "import numpy as np\n",
    "x = np.array([[1, 0],[1, 2],[1, 2],[1, -1],[1, 5]])\n",
    "y = np.array([[3],[4],[5],[0],[6]])\n",
    "xT_ggr_x = x.T @ x\n",
    "xT_ggr_y = x.T @ y\n",
    "beta = np.linalg.pinv(xT_ggr_x) @ xT_ggr_y\n",
    "print(beta)"
   ]
  },
  {
   "cell_type": "markdown",
   "metadata": {},
   "source": [
    "np.linalg.solve:"
   ]
  },
  {
   "cell_type": "code",
   "execution_count": 15,
   "metadata": {},
   "outputs": [
    {
     "name": "stdout",
     "output_type": "stream",
     "text": [
      "[[2.1509434 ]\n",
      " [0.90566038]]\n"
     ]
    }
   ],
   "source": [
    "solution_np = np.linalg.solve(xT_ggr_x, xT_ggr_y)\n",
    "print(solution_np)"
   ]
  },
  {
   "cell_type": "markdown",
   "metadata": {},
   "source": [
    "np.polyfit:"
   ]
  },
  {
   "cell_type": "code",
   "execution_count": 18,
   "metadata": {},
   "outputs": [
    {
     "data": {
      "text/plain": [
       "array([0.90566038, 2.1509434 ])"
      ]
     },
     "execution_count": 18,
     "metadata": {},
     "output_type": "execute_result"
    }
   ],
   "source": [
    "np.polyfit(x=[0,2,2,-1,5], y=[3,4,5,0,6], deg=1)"
   ]
  }
 ],
 "metadata": {
  "kernelspec": {
   "display_name": "linalg",
   "language": "python",
   "name": "python3"
  },
  "language_info": {
   "codemirror_mode": {
    "name": "ipython",
    "version": 3
   },
   "file_extension": ".py",
   "mimetype": "text/x-python",
   "name": "python",
   "nbconvert_exporter": "python",
   "pygments_lexer": "ipython3",
   "version": "3.11.5"
  }
 },
 "nbformat": 4,
 "nbformat_minor": 2
}
