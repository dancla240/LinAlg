{
 "cells": [
  {
   "cell_type": "code",
   "execution_count": 2,
   "metadata": {},
   "outputs": [],
   "source": [
    "import sympy\n",
    "import numpy as np\n",
    "import scipy.linalg"
   ]
  },
  {
   "cell_type": "code",
   "execution_count": 19,
   "metadata": {},
   "outputs": [],
   "source": [
    "M = sympy.Matrix([[ 1, -2, 3, 5, 14],\n",
    "[-2, 4, -5, -10, -26],\n",
    "[ 2, -4, 6, 11, 29],\n",
    "[-1, 2, -2, -5, -12]])"
   ]
  },
  {
   "cell_type": "code",
   "execution_count": 20,
   "metadata": {},
   "outputs": [
    {
     "name": "stdout",
     "output_type": "stream",
     "text": [
      "(Matrix([\n",
      "[1, -2, 0, 0, 3],\n",
      "[0,  0, 1, 0, 2],\n",
      "[0,  0, 0, 1, 1],\n",
      "[0,  0, 0, 0, 0]]), (0, 2, 3))\n"
     ]
    }
   ],
   "source": [
    "print(M.rref())"
   ]
  },
  {
   "cell_type": "code",
   "execution_count": 21,
   "metadata": {},
   "outputs": [
    {
     "name": "stdout",
     "output_type": "stream",
     "text": [
      "[4. 3. 1.]\n"
     ]
    }
   ],
   "source": [
    "A = numpy.array([[ 1, -2, 3],\n",
    "[ 2, -4, 7],\n",
    "[-3, 5, -1]])\n",
    "\n",
    "b = numpy.array([1, 3, 2])\n",
    "\n",
    "x = scipy.linalg.solve(A, b)\n",
    "\n",
    "print(x)"
   ]
  },
  {
   "cell_type": "markdown",
   "metadata": {},
   "source": [
    "# Tentauppgift 5\n",
    "!['Tentauppgift'](\\\\assets\\\\Tenta_uppg_5.png)<br>\n",
    "Syftet är att bestämma minsta kvadratlösningen med numpy, för att förstå hur man gör."
   ]
  },
  {
   "cell_type": "markdown",
   "metadata": {},
   "source": [
    "<h3>\n",
    "\n",
    "$A=\\begin{bmatrix}\n",
    "1 & 1\\\\\n",
    "-1 & 2\\\\\n",
    "1 & -1\n",
    "\\end{bmatrix}$\n",
    "</h3>\n",
    "\n",
    "<h3>\n",
    "\n",
    "$y = \\begin{bmatrix}\n",
    "1\\\\\n",
    "4\\\\\n",
    "0\n",
    "\\end{bmatrix}$\n",
    "</h3>\n",
    "\n",
    "<h3>\n",
    "\n",
    "$x=\\begin{bmatrix}\n",
    "x_1\\\\\n",
    "x_2\n",
    "\\end{bmatrix}$<br>\n",
    "samt\n",
    "<h3>\n",
    "\n",
    "$Ax = y$\n",
    "</h3><br>\n",
    "Multiplicera båda leden med A-transponat:\n",
    "<h3>\n",
    "\n",
    "$A^TAx = A^Ty$\n",
    "</h3>\n",
    "Matrismultiplikation A-transponat gånger A, ger oss:<br>\n",
    "<h3>\n",
    "\n",
    "$A^TA = \\begin{bmatrix}\n",
    "3 & -2\\\\\n",
    "-2 & 6\n",
    "\\end{bmatrix}$\n",
    "</h3><br>\n"
   ]
  },
  {
   "cell_type": "code",
   "execution_count": 17,
   "metadata": {},
   "outputs": [
    {
     "data": {
      "text/plain": [
       "array([[ 3, -2],\n",
       "       [-2,  6]])"
      ]
     },
     "execution_count": 17,
     "metadata": {},
     "output_type": "execute_result"
    }
   ],
   "source": [
    "A = np.array([[1, 1],[-1, 2],[1, -1]])\n",
    "y = np.array([[1],[4],[0]])\n",
    "AT_ggr_A = A.T @ A\n",
    "AT_ggr_A"
   ]
  },
  {
   "cell_type": "markdown",
   "metadata": {},
   "source": [
    "Matrismultiplikation A-transponat gånger y, ger oss:<br>\n",
    "<h3>\n",
    "\n",
    "$A^Ty = \\begin{bmatrix}\n",
    "1 & -1 & 1\\\\\n",
    "1 & 2 & -1\n",
    "\\end{bmatrix}\n",
    "\\begin{bmatrix}\n",
    "1\\\\\n",
    "4\\\\\n",
    "0\n",
    "\\end{bmatrix} = \n",
    "\\begin{bmatrix}\n",
    "-3\\\\\n",
    "9\n",
    "\\end{bmatrix}$\n",
    "</h3>\n"
   ]
  },
  {
   "cell_type": "code",
   "execution_count": 18,
   "metadata": {},
   "outputs": [
    {
     "data": {
      "text/plain": [
       "array([[-3],\n",
       "       [ 9]])"
      ]
     },
     "execution_count": 18,
     "metadata": {},
     "output_type": "execute_result"
    }
   ],
   "source": [
    "AT_ggr_y = A.T @ y\n",
    "AT_ggr_y"
   ]
  },
  {
   "cell_type": "markdown",
   "metadata": {},
   "source": [
    "<h3>\n",
    "\n",
    "$Ax = y$\n",
    "</h3><br>\n",
    "dvs:\n",
    "<h3>\n",
    "\n",
    "$\\begin{bmatrix}\n",
    "3 & -2\\\\\n",
    "-2 & 6\n",
    "\\end{bmatrix}\n",
    "\\begin{bmatrix}\n",
    "x_1\\\\\n",
    "x_2\n",
    "\\end{bmatrix} =\n",
    "\\begin{bmatrix}\n",
    "-3\\\\\n",
    "9\n",
    "\\end{bmatrix}$\n",
    "</h3><br>\n",
    "som man löser som ett vanligt ekvationsssystem, med gauselimination om man gör det för hand:\n",
    "<h3>\n",
    "\n",
    "$\\begin{bmatrix}\n",
    "3 & -2 & -3\\\\\n",
    "-2 & 6 & 9\n",
    "\\end{bmatrix}$<br>\n",
    "</h3>\n",
    "I Python löser man ekvationssystemet med Sympy:\n"
   ]
  },
  {
   "cell_type": "code",
   "execution_count": 24,
   "metadata": {},
   "outputs": [
    {
     "name": "stdout",
     "output_type": "stream",
     "text": [
      "{x1: 0, x2: 3/2}\n"
     ]
    }
   ],
   "source": [
    "x1, x2 = sympy.symbols('x1 x2')\n",
    "\n",
    "eq1 = sympy.Eq(3 * x1 -2 * x2, -3)\n",
    "eq2 = sympy.Eq(-2 * x1 + 6 * x2, 9)\n",
    "\n",
    "solution = sympy.solve((eq1, eq2), (x1, x2))\n",
    "\n",
    "print(solution)"
   ]
  },
  {
   "cell_type": "markdown",
   "metadata": {},
   "source": [
    "Lösning:<br>\n",
    "![Lösning](\\\\assets\\\\Tenta_uppg_5_lösning.png)"
   ]
  }
 ],
 "metadata": {
  "kernelspec": {
   "display_name": "linalg",
   "language": "python",
   "name": "python3"
  },
  "language_info": {
   "codemirror_mode": {
    "name": "ipython",
    "version": 3
   },
   "file_extension": ".py",
   "mimetype": "text/x-python",
   "name": "python",
   "nbconvert_exporter": "python",
   "pygments_lexer": "ipython3",
   "version": "3.11.5"
  }
 },
 "nbformat": 4,
 "nbformat_minor": 2
}
